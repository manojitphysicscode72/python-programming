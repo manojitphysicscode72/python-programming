{
 "cells": [
  {
   "cell_type": "markdown",
   "id": "81b93b51-2ca4-4d8c-bd54-76a084039b06",
   "metadata": {},
   "source": [
    "# PYTHON PROGRAMMING"
   ]
  },
  {
   "cell_type": "markdown",
   "id": "025c51ca-5022-428d-bc2f-437b6a91c753",
   "metadata": {},
   "source": [
    "<center><img src=\"python-programming-language.png\" style=\"width:200px\"/></center>"
   ]
  },
  {
   "cell_type": "code",
   "execution_count": 1,
   "id": "5bb387e9-6b97-4f5d-853a-2e84008d275f",
   "metadata": {},
   "outputs": [
    {
     "name": "stdout",
     "output_type": "stream",
     "text": [
      "Hello world! This is Manojit Paramanik. This is my new diary to work out and practice python programming.\n"
     ]
    }
   ],
   "source": [
    "print(\"Hello world! This is Manojit Paramanik. This is my new diary to work out and practice python programming.\")"
   ]
  },
  {
   "cell_type": "markdown",
   "id": "5feff3b2-3e1c-423a-b903-998e0d213823",
   "metadata": {},
   "source": [
    "## Programming\n",
    "Code to Machine is done by a Translator (Compiler / Interpreter)"
   ]
  },
  {
   "cell_type": "markdown",
   "id": "e32c9822-17a6-4459-ab5e-ff2f351ccdf8",
   "metadata": {},
   "source": [
    "## What is Python?\n",
    "- Python is a simple and easy programming language\n",
    "- Free and Open source\n",
    "- High Level Language\n",
    "- Developed by Guido van Rossum\n",
    "- Portable"
   ]
  },
  {
   "cell_type": "markdown",
   "id": "177a5442-19e3-4bfc-81ec-d57198abff97",
   "metadata": {},
   "source": [
    "## Python character set\n",
    "- Letters - A to Z, a to z\n",
    "- Digits - 0 to 9\n",
    "- Special symbols - +-*/ etc\n",
    "- Whitespaces - Blank space, tab, carriage return, newline, formfeed\n",
    "- Other characters - Python can process all ASCII and Unicode characters as part of data or literals"
   ]
  },
  {
   "cell_type": "markdown",
   "id": "c93dd19b-a457-480c-8ac5-f15310049786",
   "metadata": {},
   "source": [
    "## Variables\n",
    "A variable is a name given to a memory location in a program.\n",
    "\n",
    "name=\"Manojit\""
   ]
  },
  {
   "cell_type": "markdown",
   "id": "40624a4c-de19-4e05-aaef-ef2ac36a65a7",
   "metadata": {},
   "source": [
    "## Data types\n",
    "Data types used in Python are <br>\n",
    "- Integers\n",
    "- String\n",
    "- Float\n",
    "- Boolean\n",
    "- None"
   ]
  },
  {
   "cell_type": "code",
   "execution_count": 2,
   "id": "3aa43663-ba75-4bd0-8f04-d31be2cb35f7",
   "metadata": {},
   "outputs": [
    {
     "name": "stdout",
     "output_type": "stream",
     "text": [
      "<class 'int'>\n",
      "<class 'float'>\n",
      "<class 'complex'>\n",
      "<class 'bool'>\n",
      "<class 'str'>\n"
     ]
    }
   ],
   "source": [
    "# assigning values to our varibles\n",
    "age=20\n",
    "pi=3.14\n",
    "complex_num=1-0.9j\n",
    "A=False\n",
    "name=\"Manojit\"\n",
    "\n",
    "# checking their data types\n",
    "print(type(age))\n",
    "print(type(pi))\n",
    "print(type(complex_num))\n",
    "print(type(A))\n",
    "print(type(name))"
   ]
  },
  {
   "cell_type": "markdown",
   "id": "0fdbe4f1-545d-442f-b2ea-74be5f8cac88",
   "metadata": {},
   "source": [
    "## Keywords\n",
    "Keywords are reserved words in python.\n"
   ]
  },
  {
   "cell_type": "markdown",
   "id": "130ae186-5d9e-49cf-88e9-2d9d5abf5e9e",
   "metadata": {},
   "source": [
    "<center><img src=\"keywords.png\" style=\"width:400px\"/></center>"
   ]
  },
  {
   "cell_type": "markdown",
   "id": "a632c932-7d83-4cdb-92bc-f7264a8ec399",
   "metadata": {},
   "source": [
    "## Types of Operators\n",
    "An operator is a symbol that performs a certain operation between operands\n",
    "- Arithmetic operators (+,-,*,/,%,**)\n",
    "- Relational / comparison operators (==, /=, >, <, >=, <=)\n",
    "- Assignment operators (=,+=,-=,*=,/=,%=,**=)\n",
    "- Logical operators (not, and, or)"
   ]
  },
  {
   "cell_type": "markdown",
   "id": "eb0a07dc-5287-446b-8e42-2cf7f490b9ec",
   "metadata": {},
   "source": [
    "## Input in Python\n",
    "*input()* statement is used to accept values (using keyboards) from user. *input()* is always a *string* datatype."
   ]
  },
  {
   "cell_type": "markdown",
   "id": "77c701be-adb7-4411-a8ac-dbfd5d6bd059",
   "metadata": {},
   "source": [
    "## Practice questions\n",
    "**1. Write a program to input 2 numbers and print their sum.**"
   ]
  },
  {
   "cell_type": "code",
   "execution_count": 3,
   "id": "1f0e9491-74e3-4847-9cf8-92e507582ef8",
   "metadata": {},
   "outputs": [
    {
     "name": "stdin",
     "output_type": "stream",
     "text": [
      "Enter first number 9\n",
      "Enter second number 6\n"
     ]
    },
    {
     "name": "stdout",
     "output_type": "stream",
     "text": [
      "The sum of two given numbers is: 15\n"
     ]
    }
   ],
   "source": [
    "# write a program to input 2 numbers and print their sum\n",
    "a=int(input(\"Enter first number\"))\n",
    "b=int(input(\"Enter second number\"))\n",
    "print(\"The sum of two given numbers is:\",(a+b))"
   ]
  },
  {
   "cell_type": "markdown",
   "id": "cf6d333f-b91c-4a4d-bd5d-5875949aa23e",
   "metadata": {},
   "source": [
    "**2. Write a program to input side of a square and print its area.**"
   ]
  },
  {
   "cell_type": "code",
   "execution_count": 1,
   "id": "caa41b40-5bc7-42da-aa78-d7f59e0b1605",
   "metadata": {},
   "outputs": [
    {
     "name": "stdin",
     "output_type": "stream",
     "text": [
      "Enter first side of the rectangle 6\n",
      "Enter second side of the rectangle 3\n"
     ]
    },
    {
     "name": "stdout",
     "output_type": "stream",
     "text": [
      "The area of the rectangle is: 18\n"
     ]
    }
   ],
   "source": [
    "# write a program to input the sides of a rectangle and print its area\n",
    "a=int(input(\"Enter first side of the rectangle\"))\n",
    "b=int(input(\"Enter second side of the rectangle\"))\n",
    "print(\"The area of the rectangle is:\",(a*b))"
   ]
  },
  {
   "cell_type": "markdown",
   "id": "85e5cf0c-2417-4b7e-a0ff-40ba050414e1",
   "metadata": {},
   "source": [
    "**3. Write a program to input 2 floating point numbers and print their average.**"
   ]
  },
  {
   "cell_type": "code",
   "execution_count": 2,
   "id": "a2f3fd89-4e5e-4554-ac84-f6e21cc330f6",
   "metadata": {},
   "outputs": [
    {
     "name": "stdin",
     "output_type": "stream",
     "text": [
      "Enter the first floating point number 6.789898\n",
      "Enter the second floating point number 4.5878990\n"
     ]
    },
    {
     "name": "stdout",
     "output_type": "stream",
     "text": [
      "Average is: 5.6888985000000005\n",
      "Average upto four decimals is: 5.6889\n"
     ]
    }
   ],
   "source": [
    "# Write a program to input 2 floating point numbers and print their average\n",
    "a=float(input(\"Enter the first floating point number\"))\n",
    "b=float(input(\"Enter the second floating point number\"))\n",
    "avg=(a+b)/2\n",
    "print(\"Average is:\", avg)\n",
    "print(\"Average upto four decimals is:\", round(avg,4))"
   ]
  },
  {
   "cell_type": "markdown",
   "id": "361b1b02-6d8e-4cb1-b9b3-a33ece53bb71",
   "metadata": {},
   "source": [
    "## Strings\n",
    "String is a data type that stores a sequence of characters"
   ]
  },
  {
   "cell_type": "code",
   "execution_count": 3,
   "id": "0b7c5e99-fa35-4085-a4fc-728f652df936",
   "metadata": {},
   "outputs": [
    {
     "name": "stdout",
     "output_type": "stream",
     "text": [
      "hellodear\n",
      "hello  dear\n"
     ]
    }
   ],
   "source": [
    "print(\"hello\"+\"dear\")\n",
    "print(\"hello\"+\"  dear\")"
   ]
  },
  {
   "cell_type": "code",
   "execution_count": 4,
   "id": "af163f7b-463d-4608-b5fb-03cb3b73157d",
   "metadata": {},
   "outputs": [
    {
     "data": {
      "text/plain": [
       "7"
      ]
     },
     "execution_count": 4,
     "metadata": {},
     "output_type": "execute_result"
    }
   ],
   "source": [
    "# length\n",
    "len(\"manojit\")"
   ]
  },
  {
   "cell_type": "code",
   "execution_count": 5,
   "id": "cdc95a82-7d25-42ea-8be6-281247d1d762",
   "metadata": {},
   "outputs": [
    {
     "data": {
      "text/plain": [
       "'i'"
      ]
     },
     "execution_count": 5,
     "metadata": {},
     "output_type": "execute_result"
    }
   ],
   "source": [
    "# Indexing\n",
    "str=\"manojit\"\n",
    "str[5]"
   ]
  },
  {
   "cell_type": "code",
   "execution_count": 6,
   "id": "87bd3d3d-9987-4358-9dc9-7741d7707fc0",
   "metadata": {},
   "outputs": [
    {
     "data": {
      "text/plain": [
       "'mano'"
      ]
     },
     "execution_count": 6,
     "metadata": {},
     "output_type": "execute_result"
    }
   ],
   "source": [
    "# Slicing\n",
    "str[:4]"
   ]
  },
  {
   "cell_type": "code",
   "execution_count": 7,
   "id": "5599a60d-2862-4b08-995a-ef01ef409fe2",
   "metadata": {},
   "outputs": [
    {
     "data": {
      "text/plain": [
       "'oji'"
      ]
     },
     "execution_count": 7,
     "metadata": {},
     "output_type": "execute_result"
    }
   ],
   "source": [
    "str[3:6]"
   ]
  },
  {
   "cell_type": "markdown",
   "id": "6ea811af-172b-45ec-b6aa-e68eb144da53",
   "metadata": {},
   "source": [
    "## Conditional Statements"
   ]
  },
  {
   "cell_type": "code",
   "execution_count": 8,
   "id": "81fd297f-cf61-4137-bb2c-a12b16d6f116",
   "metadata": {},
   "outputs": [
    {
     "name": "stdin",
     "output_type": "stream",
     "text": [
      "Enter first number 7\n",
      "Enter second number 4\n"
     ]
    },
    {
     "name": "stdout",
     "output_type": "stream",
     "text": [
      "Great!\n"
     ]
    }
   ],
   "source": [
    "a=int(input(\"Enter first number\"))\n",
    "b=int(input(\"Enter second number\"))\n",
    "if a>=b:\n",
    "    print(\"Great!\")\n",
    "else:\n",
    "    print(\"Oops!\")"
   ]
  },
  {
   "cell_type": "code",
   "execution_count": 9,
   "id": "299c1866-2327-415a-afdd-d6862925f812",
   "metadata": {},
   "outputs": [
    {
     "name": "stdin",
     "output_type": "stream",
     "text": [
      "Enter your marks 95\n"
     ]
    },
    {
     "name": "stdout",
     "output_type": "stream",
     "text": [
      "grade=A\n"
     ]
    }
   ],
   "source": [
    "marks=int(input(\"Enter your marks\"))\n",
    "\n",
    "if marks>=90:\n",
    "    print(\"grade=A\")\n",
    "elif marks<90 & marks>=80:\n",
    "    print(\"grade=B\")\n",
    "elif marks<80 & marks>=70:\n",
    "    print(\"grade=C\")\n",
    "else:\n",
    "    print(\"grade=D\")"
   ]
  },
  {
   "cell_type": "markdown",
   "id": "f9dbb81f-a39c-4c38-9946-8a593085a7e9",
   "metadata": {},
   "source": [
    "## Lists in Python\n",
    "A built-in data type that stores the set of values.<br>\n",
    "It can store elements of different types (integer, float, string etc)"
   ]
  },
  {
   "cell_type": "code",
   "execution_count": 10,
   "id": "e39d7e4f-3ac4-4570-9713-6271db389ecc",
   "metadata": {},
   "outputs": [
    {
     "name": "stdout",
     "output_type": "stream",
     "text": [
      "[2, 1, 3]\n",
      "[2, 1, 3, 7]\n",
      "[1, 2, 3, 7]\n",
      "[7, 3, 2, 1]\n",
      "[3, 2, 1]\n",
      "[3, 2]\n"
     ]
    }
   ],
   "source": [
    "lst=[2,1,3]\n",
    "print(lst)\n",
    "lst.append(7)                        # append an entry into the list\n",
    "print(lst)\n",
    "lst.sort()                           # sorting the list\n",
    "print(lst)\n",
    "lst.sort(reverse=True)               # sorting the list in reverse order\n",
    "print(lst)\n",
    "lst.remove(7)                        # remove the specified entry\n",
    "print(lst)\n",
    "lst.pop()\n",
    "print(lst)                           # remove element at the index"
   ]
  },
  {
   "cell_type": "markdown",
   "id": "a0932240-1117-48af-bc7b-5db9ecb9c3f5",
   "metadata": {},
   "source": [
    "# Tuples in python\n",
    "A built-in data type that lets us create *immutable* sequences of values."
   ]
  },
  {
   "cell_type": "code",
   "execution_count": 11,
   "id": "0aff0af3-fdbf-4201-abc3-2baaafb5a7a2",
   "metadata": {},
   "outputs": [
    {
     "data": {
      "text/plain": [
       "5"
      ]
     },
     "execution_count": 11,
     "metadata": {},
     "output_type": "execute_result"
    }
   ],
   "source": [
    "tup=(87,64,33,95,76)\n",
    "tup[0]\n",
    "len(tup)"
   ]
  },
  {
   "cell_type": "markdown",
   "id": "88f84b3c-09bb-4be1-81c6-93a477d97bb7",
   "metadata": {},
   "source": [
    "## Dictionary in Python\n",
    "Dictionaries are used to store data values in **key:value** pairs<br>\n",
    "They are unordered, mutable (changeable) and don't allow duplicate keys"
   ]
  },
  {
   "cell_type": "code",
   "execution_count": 12,
   "id": "4f8ccae6-139d-4ba0-96b2-20532299eda8",
   "metadata": {},
   "outputs": [],
   "source": [
    "dict={\n",
    "    \"name\":\"Manojit\",\n",
    "    \"institution\":\"St. Xavier's College (Autonomous), Kolkata\",\n",
    "    \"degree\":\"Bachelors in Sceince in Physics\",\n",
    "    \"gpa\": 7.4\n",
    "}"
   ]
  },
  {
   "cell_type": "code",
   "execution_count": 13,
   "id": "eff886e1-f858-4233-b318-937a5706ee7f",
   "metadata": {},
   "outputs": [
    {
     "data": {
      "text/plain": [
       "dict_keys(['name', 'institution', 'degree', 'gpa'])"
      ]
     },
     "execution_count": 13,
     "metadata": {},
     "output_type": "execute_result"
    }
   ],
   "source": [
    "dict.keys()"
   ]
  },
  {
   "cell_type": "code",
   "execution_count": 14,
   "id": "158fe659-322a-4b0e-a1e7-0ea2e3c1038b",
   "metadata": {},
   "outputs": [
    {
     "data": {
      "text/plain": [
       "dict_values(['Manojit', \"St. Xavier's College (Autonomous), Kolkata\", 'Bachelors in Sceince in Physics', 7.4])"
      ]
     },
     "execution_count": 14,
     "metadata": {},
     "output_type": "execute_result"
    }
   ],
   "source": [
    "dict.values()"
   ]
  },
  {
   "cell_type": "code",
   "execution_count": 15,
   "id": "c512f4c4-4539-4be6-9495-f04d6b4108a6",
   "metadata": {},
   "outputs": [
    {
     "data": {
      "text/plain": [
       "dict_items([('name', 'Manojit'), ('institution', \"St. Xavier's College (Autonomous), Kolkata\"), ('degree', 'Bachelors in Sceince in Physics'), ('gpa', 7.4)])"
      ]
     },
     "execution_count": 15,
     "metadata": {},
     "output_type": "execute_result"
    }
   ],
   "source": [
    "dict.items()"
   ]
  },
  {
   "cell_type": "markdown",
   "id": "35ff6724-4b17-478d-9157-b5a70a0cc46a",
   "metadata": {},
   "source": [
    "## Set in python\n",
    "Set is the collection of the unordered items.<br>\n",
    "Each element in the set must be unique and immutable"
   ]
  },
  {
   "cell_type": "code",
   "execution_count": 17,
   "id": "8ca27868-ddc7-4e6e-acad-131de915f3dd",
   "metadata": {},
   "outputs": [
    {
     "data": {
      "text/plain": [
       "{1, 2, 7}"
      ]
     },
     "execution_count": 17,
     "metadata": {},
     "output_type": "execute_result"
    }
   ],
   "source": [
    "set={1,2,2,2,2,7}\n",
    "set"
   ]
  },
  {
   "cell_type": "markdown",
   "id": "f7e2e6aa-3e6f-40e3-8e98-697fe717a76f",
   "metadata": {},
   "source": [
    "## Loops in python\n",
    "Loops are used to repeat instructions"
   ]
  },
  {
   "cell_type": "markdown",
   "id": "ee828f97-f679-4044-9479-cc783bfc82f8",
   "metadata": {},
   "source": [
    "**while loops**"
   ]
  },
  {
   "cell_type": "code",
   "execution_count": 18,
   "id": "655a9a96-3175-47ce-ac25-742f44e55647",
   "metadata": {},
   "outputs": [
    {
     "name": "stdout",
     "output_type": "stream",
     "text": [
      "1\n",
      "2\n",
      "3\n",
      "4\n",
      "5\n",
      "6\n",
      "7\n",
      "8\n",
      "9\n",
      "10\n"
     ]
    }
   ],
   "source": [
    "i=1                        # initialization \n",
    "while i <=10:              ## condition \n",
    "    print(i)               # defintion\n",
    "    i+=1                   # modification"
   ]
  },
  {
   "cell_type": "code",
   "execution_count": 19,
   "id": "30e5d318-f901-4cf5-92a7-39af5fc098a7",
   "metadata": {},
   "outputs": [
    {
     "name": "stdout",
     "output_type": "stream",
     "text": [
      "1\n",
      "2\n",
      "3\n",
      "end of loop\n"
     ]
    }
   ],
   "source": [
    "# use break\n",
    "i=1\n",
    "while i<=5:\n",
    "    print(i)\n",
    "    if(i==3):\n",
    "        break\n",
    "    i+=1\n",
    "\n",
    "print(\"end of loop\")"
   ]
  },
  {
   "cell_type": "markdown",
   "id": "7a3a6a29-ab8b-4599-895e-00c5d5ce21f5",
   "metadata": {},
   "source": [
    "**Question :** Search for a number x in this tuple using loop:<br>\n",
    "[1, 4, 9, 16, 25, 36, 49, 64, 81, 100]"
   ]
  },
  {
   "cell_type": "code",
   "execution_count": 20,
   "id": "acdd9b73-10d5-4d1d-a731-b46812b6e674",
   "metadata": {},
   "outputs": [
    {
     "name": "stdout",
     "output_type": "stream",
     "text": [
      "finding...\n",
      "finding...\n",
      "finding...\n",
      "finding...\n",
      "finding...\n",
      "FOUND at idx 5\n"
     ]
    }
   ],
   "source": [
    "nums=(1,4,9,16,25,36,49,64,81,100)\n",
    "\n",
    "x=36\n",
    "\n",
    "i=0\n",
    "while i<len(nums):\n",
    "    if(nums[i]==x):\n",
    "        print(\"FOUND at idx\",i)\n",
    "        break\n",
    "    else:\n",
    "        print(\"finding...\")\n",
    "    i+=1"
   ]
  },
  {
   "cell_type": "markdown",
   "id": "a5c16c0c-2249-405e-81bd-bb367d00fe0f",
   "metadata": {},
   "source": [
    "**for loop**"
   ]
  },
  {
   "cell_type": "code",
   "execution_count": 21,
   "id": "7cd5f6a9-6bc3-4900-b42b-0ec3ea25661d",
   "metadata": {},
   "outputs": [
    {
     "name": "stdout",
     "output_type": "stream",
     "text": [
      "0\n",
      "1\n",
      "2\n",
      "3\n",
      "4\n",
      "5\n",
      "6\n",
      "7\n",
      "8\n",
      "9\n"
     ]
    }
   ],
   "source": [
    "for i in range(10):\n",
    "    print(i)"
   ]
  },
  {
   "cell_type": "code",
   "execution_count": 22,
   "id": "bc2ee247-6302-453a-80a6-f40a897c0eef",
   "metadata": {},
   "outputs": [
    {
     "name": "stdout",
     "output_type": "stream",
     "text": [
      "a\n",
      "b\n",
      "c\n",
      "d\n"
     ]
    }
   ],
   "source": [
    "x=['a','b','c','d']\n",
    "\n",
    "for i in x:\n",
    "    print(i)"
   ]
  },
  {
   "cell_type": "code",
   "execution_count": 23,
   "id": "4eec4ba0-16cc-4bca-9b09-4d565105e83c",
   "metadata": {},
   "outputs": [
    {
     "name": "stdout",
     "output_type": "stream",
     "text": [
      "*****\n",
      "****\n",
      "***\n",
      "**\n",
      "*\n"
     ]
    }
   ],
   "source": [
    "for i in range(5,0,-1):\n",
    "    print(\"*\"*i)"
   ]
  },
  {
   "cell_type": "markdown",
   "id": "4e6319cf-e21d-4992-a91b-83ab66ca6345",
   "metadata": {},
   "source": [
    "<br>"
   ]
  },
  {
   "cell_type": "markdown",
   "id": "77d608d2-03a1-4209-bf8d-a87638a8aa25",
   "metadata": {},
   "source": [
    "## Functions\n",
    "Block of statements that perform a specific task"
   ]
  },
  {
   "cell_type": "code",
   "execution_count": 24,
   "id": "5c782c2f-f958-44fe-b434-f97ea1cd51c9",
   "metadata": {},
   "outputs": [
    {
     "name": "stdout",
     "output_type": "stream",
     "text": [
      "8\n"
     ]
    }
   ],
   "source": [
    "def sum(a,b):\n",
    "    s=a+b\n",
    "    return s\n",
    "\n",
    "print(sum(1,7))"
   ]
  },
  {
   "cell_type": "markdown",
   "id": "5b55f869-1f61-40ae-a72a-01571b9f8f19",
   "metadata": {},
   "source": [
    "## Recursion\n",
    "when a function calls itself repeatedly"
   ]
  },
  {
   "cell_type": "code",
   "execution_count": 26,
   "id": "3fadf44f-e80c-4ec4-95a6-b2d6315aaacb",
   "metadata": {},
   "outputs": [
    {
     "name": "stdout",
     "output_type": "stream",
     "text": [
      "7\n",
      "6\n",
      "5\n",
      "4\n",
      "3\n",
      "2\n",
      "1\n"
     ]
    }
   ],
   "source": [
    "def show(n):\n",
    "    if (n==0):\n",
    "        return\n",
    "    print(n)\n",
    "    show(n-1)\n",
    "\n",
    "show(7)"
   ]
  },
  {
   "cell_type": "code",
   "execution_count": 28,
   "id": "93995627-9310-47ab-b536-e0404c5e58cd",
   "metadata": {},
   "outputs": [
    {
     "data": {
      "text/plain": [
       "5040"
      ]
     },
     "execution_count": 28,
     "metadata": {},
     "output_type": "execute_result"
    }
   ],
   "source": [
    "def fact(n):\n",
    "    if (n==0 or n==1):\n",
    "        return 1\n",
    "    else:\n",
    "        return n*fact(n-1)\n",
    "\n",
    "fact(7)"
   ]
  },
  {
   "cell_type": "code",
   "execution_count": null,
   "id": "fc055556-2ff5-4b66-acdc-282e94cf9878",
   "metadata": {},
   "outputs": [],
   "source": []
  }
 ],
 "metadata": {
  "kernelspec": {
   "display_name": "Python 3 (ipykernel)",
   "language": "python",
   "name": "python3"
  },
  "language_info": {
   "codemirror_mode": {
    "name": "ipython",
    "version": 3
   },
   "file_extension": ".py",
   "mimetype": "text/x-python",
   "name": "python",
   "nbconvert_exporter": "python",
   "pygments_lexer": "ipython3",
   "version": "3.11.4"
  }
 },
 "nbformat": 4,
 "nbformat_minor": 5
}
